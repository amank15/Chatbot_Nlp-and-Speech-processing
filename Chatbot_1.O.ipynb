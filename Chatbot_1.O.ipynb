{
  "cells": [
    {
      "cell_type": "markdown",
      "metadata": {
        "id": "RPsYANq4eSl4"
      },
      "source": [
        "  #Made by : Aman Kumar\n",
        "  #B.Tech :IIIT Naya Raipur\n",
        "  #Branch : Data Science and Artificial Intelligence"
      ]
    },
    {
      "cell_type": "markdown",
      "metadata": {
        "id": "1eZfzvUndVrM"
      },
      "source": [
        "Stpe 1"
      ]
    },
    {
      "cell_type": "code",
      "execution_count": null,
      "metadata": {
        "colab": {
          "base_uri": "https://localhost:8080/"
        },
        "id": "EfX4MU-EDYHP",
        "outputId": "041061cc-c81b-4a08-e95a-9e819d6ee739"
      },
      "outputs": [
        {
          "name": "stdout",
          "output_type": "stream",
          "text": [
            "BOT : What you want me to call you\n",
            "Aman\n"
          ]
        }
      ],
      "source": [
        "print(\"BOT : What you want me to call you\")\n",
        "user_name = input()"
      ]
    },
    {
      "cell_type": "markdown",
      "metadata": {
        "id": "DZzBZXMWdZTa"
      },
      "source": [
        "Step 2"
      ]
    },
    {
      "cell_type": "code",
      "execution_count": null,
      "metadata": {
        "id": "pO_HqykBDoFa"
      },
      "outputs": [],
      "source": [
        "bot_template = \"BOT  : {}\"\n",
        "user_template = user_name + ': {}'\n"
      ]
    },
    {
      "cell_type": "markdown",
      "metadata": {
        "id": "yo3g_iKedbuW"
      },
      "source": [
        "Step 3"
      ]
    },
    {
      "cell_type": "code",
      "execution_count": null,
      "metadata": {
        "id": "poedZzBoFw9J"
      },
      "outputs": [],
      "source": [
        "name = \"Mr. Mahto\" \n",
        "weather = \"Chill\" \n",
        "mood = \"excited\"\n",
        "\n",
        "responses = { \n",
        "\"what's your name?\": [ \n",
        "\"They call me {0}\".format(name), \n",
        "\"I usually go by {0}\".format(name), \n",
        "\"My name is the {0}\".format(name) ],\n",
        "\n",
        "\"what's today's weather?\": [ \n",
        "\"The weather is {0}\".format(weather), \n",
        "\"It's {0} today\".format(weather), \n",
        "\"Let me check, it looks {0} today\".format(weather) ],\n",
        "\n",
        "\"Are you a robot?\": [ \n",
        "\"What do you think?\", \n",
        "\"Maybe yes, maybe no!\", \n",
        "\"Yes, I am a robot with human feelings.\", ],\n",
        "\n",
        "\"how are you?\": [ \n",
        "\"I am feeling {0}\".format(mood), \n",
        "\"{0}! How about you?\".format(mood), \n",
        "\"I am {0}! How about yourself?\".format(mood), ],\n",
        "\"\": [ \n",
        "\n",
        "\"Hey! Are you there?\", \n",
        "\"What do you mean by saying nothing?\", \n",
        "\"Sometimes saying nothing tells a lot :)\", ],\n",
        "\n",
        "\"default\" : \n",
        "[\"This is a default message\"]\n",
        "}\n",
        "\n"
      ]
    },
    {
      "cell_type": "markdown",
      "metadata": {
        "id": "kv8v727Bdf1t"
      },
      "source": [
        "STEP 4"
      ]
    },
    {
      "cell_type": "code",
      "execution_count": null,
      "metadata": {
        "id": "ag_2dbjoMssc"
      },
      "outputs": [],
      "source": [
        "import random\n",
        "def respond(message):\n",
        "  if message in responses:\n",
        "    bot_response = random.choice(responses[message])\n",
        "\n",
        "  else:\n",
        "    bot_response = random.choice(responses(\"default\"))\n",
        "\n",
        "  return bot_response\n"
      ]
    },
    {
      "cell_type": "markdown",
      "metadata": {
        "id": "Yn8hIlFTdiPo"
      },
      "source": [
        "STEP 5"
      ]
    },
    {
      "cell_type": "code",
      "execution_count": null,
      "metadata": {
        "id": "pGZjvgbNRvA8"
      },
      "outputs": [],
      "source": [
        "\n",
        "\n",
        "\n",
        "def related(x_text): \n",
        "  if \"name\" in x_text: \n",
        "    y_text = \"what's your name?\"\n",
        "  elif \"weather\" in x_text: \n",
        "    y_text = \"what's today's weather?\"\n",
        "  elif \"robot\" in x_text: \n",
        "    y_text = \"are you a robot?\"\n",
        "  elif \"how are\" in x_text: \n",
        "    y_text = \"how are you?\"\n",
        "  else: \n",
        "    y_text = \"\"\n",
        "  return y_text"
      ]
    },
    {
      "cell_type": "markdown",
      "metadata": {
        "id": "HNTmPjr0dlEj"
      },
      "source": [
        "STEP 6"
      ]
    },
    {
      "cell_type": "code",
      "execution_count": null,
      "metadata": {
        "id": "wW672zVcciTD"
      },
      "outputs": [],
      "source": [
        "def send_message(message):\n",
        "  print(user_template.format(message))\n",
        "  response = respond(message)\n",
        "  print(bot_template.format(response))"
      ]
    },
    {
      "cell_type": "markdown",
      "metadata": {
        "id": "e9Mab0_1IfCT"
      },
      "source": [
        "STEP 7"
      ]
    },
    {
      "cell_type": "code",
      "execution_count": null,
      "metadata": {
        "colab": {
          "background_save": true,
          "base_uri": "https://localhost:8080/"
        },
        "id": "7iuTzZsRIeYP",
        "outputId": "f1b079ba-5f3e-4122-cf16-f8b8cc61ab2b"
      },
      "outputs": [
        {
          "name": "stdout",
          "output_type": "stream",
          "text": [
            "jarvis: \n",
            "BOT  : What do you mean by saying nothing?\n",
            "jarvis: how are you?\n",
            "BOT  : I am feeling excited\n",
            "jarvis: what's your name?\n",
            "BOT  : I usually go by Mr. Mahto\n",
            "jarvis: \n",
            "BOT  : What do you mean by saying nothing?\n",
            "jarvis: what's today's weather?\n",
            "BOT  : The weather is Chill\n",
            "jarvis: \n",
            "BOT  : Hey! Are you there?\n"
          ]
        }
      ],
      "source": [
        "while 1:\n",
        "  user_input = input()\n",
        "  user_input = user_input.lower()\n",
        "  query = related(user_input)\n",
        "  send_message(query)\n",
        "\n",
        "if user_input == \"exit\" or \"stop\":\n",
        "  break"
      ]
    }
  ],
  "metadata": {
    "colab": {
      "collapsed_sections": [],
      "name": "Chatbot 1.O.ipynb",
      "provenance": []
    },
    "kernelspec": {
      "display_name": "Python 3",
      "name": "python3"
    },
    "language_info": {
      "name": "python"
    }
  },
  "nbformat": 4,
  "nbformat_minor": 0
}